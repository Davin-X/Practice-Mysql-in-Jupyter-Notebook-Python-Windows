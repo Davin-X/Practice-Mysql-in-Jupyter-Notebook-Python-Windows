{
 "cells": [
  {
   "cell_type": "code",
   "execution_count": 1,
   "id": "1cd67ab9",
   "metadata": {},
   "outputs": [
    {
     "name": "stdout",
     "output_type": "stream",
     "text": [
      "<mysql.connector.connection.MySQLConnection object at 0x0000021B74C93588>\n"
     ]
    }
   ],
   "source": [
    "import mysql.connector\n",
    "\n",
    "mydb = mysql.connector.connect(\n",
    "  host=\"localhost\",\n",
    "  user=\"root\",\n",
    "  passwd=\"Mysql@password1\"\n",
    ")\n",
    "\n",
    "print(mydb)"
   ]
  },
  {
   "cell_type": "code",
   "execution_count": 2,
   "id": "2883af92",
   "metadata": {},
   "outputs": [],
   "source": [
    "mycursor = mydb.cursor()\n",
    "\n",
    "mycursor.execute(\"show databases\")\n"
   ]
  },
  {
   "cell_type": "code",
   "execution_count": 3,
   "id": "dc0e435d",
   "metadata": {},
   "outputs": [
    {
     "name": "stdout",
     "output_type": "stream",
     "text": [
      "('information_schema',)\n",
      "('mysql',)\n",
      "('performance_schema',)\n",
      "('retail_db',)\n",
      "('sys',)\n"
     ]
    }
   ],
   "source": [
    "myresult = mycursor.fetchall()\n",
    "for x in myresult:\n",
    "  print(x)\n"
   ]
  },
  {
   "cell_type": "code",
   "execution_count": 4,
   "id": "f74131a6",
   "metadata": {},
   "outputs": [
    {
     "data": {
      "text/plain": [
       "[('information_schema',),\n",
       " ('mysql',),\n",
       " ('performance_schema',),\n",
       " ('retail_db',),\n",
       " ('sys',)]"
      ]
     },
     "execution_count": 4,
     "metadata": {},
     "output_type": "execute_result"
    }
   ],
   "source": [
    "myresult"
   ]
  },
  {
   "cell_type": "code",
   "execution_count": 5,
   "id": "8ed3acfb",
   "metadata": {},
   "outputs": [],
   "source": [
    "mycursor.execute(\"CREATE DATABASE tmp_db\")"
   ]
  },
  {
   "cell_type": "code",
   "execution_count": 6,
   "id": "9e30c59c",
   "metadata": {},
   "outputs": [],
   "source": [
    "\n",
    "mydb = mysql.connector.connect(\n",
    "  host=\"localhost\",\n",
    "  user=\"root\",\n",
    "  passwd=\"Mysql@password1\",\n",
    "  database=\"tmp_db\"\n",
    ")"
   ]
  },
  {
   "cell_type": "code",
   "execution_count": 7,
   "id": "5c9ce21a",
   "metadata": {},
   "outputs": [],
   "source": [
    "mycursor = mydb.cursor()\n",
    "\n",
    "mycursor.execute(\"CREATE TABLE customers (id INT AUTO_INCREMENT PRIMARY KEY, name VARCHAR(255), address VARCHAR(255))\")"
   ]
  },
  {
   "cell_type": "code",
   "execution_count": 8,
   "id": "4e811648",
   "metadata": {},
   "outputs": [
    {
     "name": "stdout",
     "output_type": "stream",
     "text": [
      "1 record(s) inserted.\n"
     ]
    }
   ],
   "source": [
    "sql = \"INSERT INTO customers (name, address) VALUES (%s, %s)\"\n",
    "val = (\"David\", \"California\")\n",
    "mycursor.execute(sql, val)\n",
    "\n",
    "mydb.commit()\n",
    "\n",
    "print(mycursor.rowcount, \"record(s) inserted.\")"
   ]
  },
  {
   "cell_type": "code",
   "execution_count": 9,
   "id": "fc6ec1ca",
   "metadata": {},
   "outputs": [
    {
     "name": "stdout",
     "output_type": "stream",
     "text": [
      "4 record(s) inserted.\n"
     ]
    }
   ],
   "source": [
    "sql = \"INSERT INTO customers (name, address) VALUES (%s, %s)\"\n",
    "val = [\n",
    "    (\"Lily\", \"California\"),\n",
    "    (\"David\", \"San Francisco\"),\n",
    "    (\"Micheal\", \"Las Vegas\"),\n",
    "    (\"Sarah\", \"New York\")\n",
    "]\n",
    "mycursor.executemany(sql, val)\n",
    "mydb.commit()\n",
    "print(mycursor.rowcount, \"record(s) inserted.\")"
   ]
  },
  {
   "cell_type": "code",
   "execution_count": 10,
   "id": "ababacf8",
   "metadata": {},
   "outputs": [
    {
     "name": "stdout",
     "output_type": "stream",
     "text": [
      "(1, 'David', 'California')\n",
      "(2, 'Lily', 'California')\n",
      "(3, 'David', 'San Francisco')\n",
      "(4, 'Micheal', 'Las Vegas')\n",
      "(5, 'Sarah', 'New York')\n"
     ]
    }
   ],
   "source": [
    "sql = \"SELECT * FROM customers\"\n",
    "mycursor.execute(sql)\n",
    "\n",
    "myresult = mycursor.fetchall()\n",
    "\n",
    "for x in myresult:\n",
    "    print(x)"
   ]
  },
  {
   "cell_type": "code",
   "execution_count": 11,
   "id": "6cd960df",
   "metadata": {},
   "outputs": [
    {
     "data": {
      "text/plain": [
       "[(1, 'David', 'California'),\n",
       " (2, 'Lily', 'California'),\n",
       " (3, 'David', 'San Francisco'),\n",
       " (4, 'Micheal', 'Las Vegas'),\n",
       " (5, 'Sarah', 'New York')]"
      ]
     },
     "execution_count": 11,
     "metadata": {},
     "output_type": "execute_result"
    }
   ],
   "source": [
    "myresult"
   ]
  },
  {
   "cell_type": "code",
   "execution_count": 12,
   "id": "6b20219e",
   "metadata": {},
   "outputs": [
    {
     "name": "stdout",
     "output_type": "stream",
     "text": [
      "(1, 'David', 'California')\n",
      "(2, 'Lily', 'California')\n"
     ]
    }
   ],
   "source": [
    "sql = \"SELECT * FROM customers WHERE address = %s\"\n",
    "adr = (\"California\", )\n",
    "mycursor.execute(sql, adr)\n",
    "myresult = mycursor.fetchall()\n",
    "for x in myresult:\n",
    "    print(x)"
   ]
  },
  {
   "cell_type": "code",
   "execution_count": 13,
   "id": "707fbc50",
   "metadata": {},
   "outputs": [
    {
     "name": "stdout",
     "output_type": "stream",
     "text": [
      "(1, 'David', 'California')\n",
      "(2, 'Lily', 'California')\n",
      "(3, 'David', 'San Francisco')\n",
      "(4, 'Micheal', 'Las Vegas')\n",
      "(5, 'Sarah', 'New York')\n"
     ]
    }
   ],
   "source": [
    "mycursor.execute(\"SELECT * FROM customers LIMIT 5\")\n",
    "\n",
    "myresult = mycursor.fetchall()\n",
    "\n",
    "for x in myresult:\n",
    "    print(x)"
   ]
  },
  {
   "cell_type": "code",
   "execution_count": 14,
   "id": "d6449ca8",
   "metadata": {},
   "outputs": [
    {
     "name": "stdout",
     "output_type": "stream",
     "text": [
      "(1, 'David', 'California')\n",
      "(2, 'Lily', 'California')\n"
     ]
    }
   ],
   "source": [
    "sql = \"SELECT * FROM customers WHERE address = %s ORDER by name\"\n",
    "adr = (\"California\", )\n",
    "mycursor.execute(sql, adr)\n",
    "myresult = mycursor.fetchall()\n",
    "for x in myresult:\n",
    "    print(x)"
   ]
  },
  {
   "cell_type": "code",
   "execution_count": 15,
   "id": "ca6a8aa2",
   "metadata": {},
   "outputs": [
    {
     "name": "stdout",
     "output_type": "stream",
     "text": [
      "2 record(s) deleted.\n"
     ]
    }
   ],
   "source": [
    "sql = \"DELETE FROM customers WHERE address = %s\"\n",
    "adr = (\"California\", )\n",
    "mycursor.execute(sql, adr)\n",
    "mydb.commit()\n",
    "print(mycursor.rowcount, \"record(s) deleted.\")"
   ]
  },
  {
   "cell_type": "code",
   "execution_count": 16,
   "id": "94f0b2f3",
   "metadata": {},
   "outputs": [],
   "source": [
    "\n",
    "# sql = \"DROP TABLE customers\"\n",
    "\n",
    "# mycursor.execute(sql)\n"
   ]
  },
  {
   "cell_type": "code",
   "execution_count": 17,
   "id": "9e893f57",
   "metadata": {},
   "outputs": [
    {
     "name": "stdout",
     "output_type": "stream",
     "text": [
      "0 record(s) updated.\n"
     ]
    }
   ],
   "source": [
    "sql = \"UPDATE customers SET address = %s WHERE name = %s\"\n",
    "val = (\"California\", \"John\", )\n",
    "mycursor.execute(sql, val)\n",
    "mydb.commit()\n",
    "print(mycursor.rowcount, \"record(s) updated.\")"
   ]
  },
  {
   "cell_type": "code",
   "execution_count": 18,
   "id": "f22c674e",
   "metadata": {},
   "outputs": [
    {
     "name": "stdout",
     "output_type": "stream",
     "text": [
      "3 record(s) inserted.\n"
     ]
    }
   ],
   "source": [
    "sql = \"CREATE TABLE products (id INT AUTO_INCREMENT PRIMARY KEY, name VARCHAR(255), price VARCHAR(255))\"\n",
    "mycursor.execute(sql)\n",
    "sql = \"INSERT INTO products (name, price) VALUES (%s, %s)\"\n",
    "val = [\n",
    "    (\"macbook\", \"2000\"),\n",
    "    (\"iphone\", \"1000\"),\n",
    "    (\"apple watch\", \"500\")\n",
    "]\n",
    "mycursor.executemany(sql, val)\n",
    "mydb.commit()\n",
    "print(mycursor.rowcount, \"record(s) inserted.\")"
   ]
  },
  {
   "cell_type": "code",
   "execution_count": 19,
   "id": "7e947e44",
   "metadata": {},
   "outputs": [
    {
     "name": "stdout",
     "output_type": "stream",
     "text": [
      "4 record(s) inserted.\n"
     ]
    }
   ],
   "source": [
    "sql = \"CREATE TABLE orders (id INT AUTO_INCREMENT PRIMARY KEY, customer_id INT, product_id INT)\"\n",
    "mycursor.execute(sql)\n",
    "sql = \"INSERT INTO orders (customer_id, product_id) VALUES (%s, %s)\"\n",
    "val = [\n",
    "    (\"1\", \"1\"),\n",
    "    (\"1\", \"2\"),\n",
    "    (\"2\", \"3\"),\n",
    "    (\"3\", \"3\")\n",
    "]\n",
    "mycursor.executemany(sql, val)\n",
    "mydb.commit()\n",
    "print(mycursor.rowcount, \"record(s) inserted.\")"
   ]
  },
  {
   "cell_type": "code",
   "execution_count": 20,
   "id": "2072e32a",
   "metadata": {},
   "outputs": [
    {
     "name": "stdout",
     "output_type": "stream",
     "text": [
      "('David', 4)\n"
     ]
    }
   ],
   "source": [
    "sql = \"\"\"SELECT \n",
    "    c.name, o.id\n",
    "    FROM customers c\n",
    "    JOIN orders o ON c.id = o.customer_id\n",
    "    \"\"\"\n",
    "mycursor.execute(sql)\n",
    "myresult = mycursor.fetchall()\n",
    "for x in myresult:\n",
    "    print(x)"
   ]
  },
  {
   "cell_type": "code",
   "execution_count": 21,
   "id": "00bf6914",
   "metadata": {},
   "outputs": [
    {
     "name": "stdout",
     "output_type": "stream",
     "text": [
      "('David', 4)\n",
      "('Micheal', None)\n",
      "('Sarah', None)\n"
     ]
    }
   ],
   "source": [
    "sql = \"SELECT \\\n",
    "    c.name, o.id\\\n",
    "    FROM customers c\\\n",
    "    LEFT JOIN orders o ON c.id = o.customer_id\\\n",
    "    \"\n",
    "mycursor.execute(sql)\n",
    "myresult = mycursor.fetchall()\n",
    "for x in myresult:\n",
    "    print(x)"
   ]
  },
  {
   "cell_type": "code",
   "execution_count": 22,
   "id": "ed4e9660",
   "metadata": {},
   "outputs": [
    {
     "name": "stdout",
     "output_type": "stream",
     "text": [
      "(4, 'David', 'apple watch', '500')\n"
     ]
    }
   ],
   "source": [
    "sql = \"SELECT \\\n",
    "    o.id, c.name, p.name, p.price\\\n",
    "    FROM orders o\\\n",
    "    JOIN products p ON o.product_id = p.id\\\n",
    "    JOIN customers c ON o.customer_id = c.id\"\n",
    "mycursor.execute(sql)\n",
    "myresult = mycursor.fetchall()\n",
    "for x in myresult:\n",
    "    print(x)"
   ]
  }
 ],
 "metadata": {
  "kernelspec": {
   "display_name": "Python 3 (ipykernel)",
   "language": "python",
   "name": "python3"
  },
  "language_info": {
   "codemirror_mode": {
    "name": "ipython",
    "version": 3
   },
   "file_extension": ".py",
   "mimetype": "text/x-python",
   "name": "python",
   "nbconvert_exporter": "python",
   "pygments_lexer": "ipython3",
   "version": "3.7.11"
  }
 },
 "nbformat": 4,
 "nbformat_minor": 5
}
